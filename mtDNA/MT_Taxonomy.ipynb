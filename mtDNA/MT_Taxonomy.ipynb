{
 "cells": [
  {
   "cell_type": "code",
   "execution_count": 1,
   "id": "29e52a0d-c54a-4bee-a394-609c0333f01d",
   "metadata": {},
   "outputs": [],
   "source": [
    "import pandas as pd\n",
    "import taxoniq\n",
    "from Bio import SeqIO"
   ]
  },
  {
   "cell_type": "code",
   "execution_count": 24,
   "id": "21549870-b033-4fa5-a80f-4e96f1401eea",
   "metadata": {},
   "outputs": [],
   "source": [
    "d = pd.read_csv('./mt93_counts.tsv',sep=\"\\t\")\n",
    "d = d.set_index(\"Sample_Name\")\n",
    "\n",
    "b = pd.read_csv('./mt93_coveredbases.tsv',sep=\"\\t\")\n",
    "b = b.set_index(\"Sample_Name\")\n",
    "\n",
    "m = pd.read_csv('../METADATA/SRA_run_info_acc_Apr16.tsv', sep=\"\\t\")\n",
    "d[b < 430] = 0\n",
    "b[b < 430] = 0"
   ]
  },
  {
   "cell_type": "code",
   "execution_count": 25,
   "id": "89c805a7-f457-4ed9-b8eb-379af8a0d2db",
   "metadata": {},
   "outputs": [],
   "source": [
    "d_melt = b\n",
    "d_melt['Sample_Name'] = d_melt.index\n",
    "d_melt = d_melt.melt(id_vars='Sample_Name', var_name='Contig',value_name='Bases_covered')\n",
    "d_melt = d_melt.query(\"Bases_covered >= 430\")\n",
    "\n",
    "id2name = {}\n",
    "for record in SeqIO.parse('./mt_derep98.fasta', 'fasta'):\n",
    "    id2name[record.id] = ' '.join(record.description.replace(\" UNVERIFIED: \", \" \").split()[1:3])\n",
    "\n",
    "d_melt['Species'] = d_melt['Contig'].map(id2name)\n",
    "\n",
    "species2group = {}\n",
    "not_found = set()\n",
    "for genome in d_melt.Species.unique():\n",
    "    try:\n",
    "        t = taxoniq.Taxon(scientific_name=genome)\n",
    "        ranks = [(t.rank.name, t.scientific_name) for t in t.ranked_lineage]\n",
    "        if ('kingdom', 'Metazoa') in ranks:\n",
    "            for rank in ranks:\n",
    "                if rank[0] == 'class':\n",
    "                    class_name = rank[1]\n",
    "                    break\n",
    "            species2group[genome] = class_name\n",
    "    except:\n",
    "        not_found.add(genome)\n",
    "\n",
    "        \n",
    "d_melt['Class'] = d_melt.Species.map(species2group)\n",
    "d_melt = d_melt[~d_melt.Class.isna()]\n",
    "\n",
    "groupings = {\"Mammalia\":\"Mammal\",        \n",
    "\"Actinopteri\":\"Fish\",     \n",
    "\"Aves\":\"Bird\",             \n",
    "\"Bivalvia\":\"Bivalves\",\n",
    "\"Lepidosauria\":\"Reptile\",\n",
    "\"Malacostraca\": \"Crustacean\"}\n",
    "d_melt['Group'] = d_melt.Class.map(groupings).fillna(\"Other\")\n",
    "d_melt = d_melt[~d_melt.Group.isna()]\n",
    "\n",
    "species = d_melt[['Contig','Species','Class','Group', 'Bases_covered']].groupby(['Contig','Species','Class','Group']).sum().reset_index().sort_values(\"Bases_covered\", ascending=False)\n",
    "\n",
    "species2name = {}\n",
    "for index, row in species.iterrows():\n",
    "    species2name[row['Contig']] = row['Contig'] + \" \" + row['Species']"
   ]
  },
  {
   "cell_type": "code",
   "execution_count": 26,
   "id": "f0d15f8c-025b-4eb8-80a0-af549359977d",
   "metadata": {},
   "outputs": [],
   "source": [
    "b = b[species.Contig]\n",
    "d = d[species.Contig]\n",
    "\n",
    "b.columns = b.columns.map(species2name)\n",
    "b = b.reset_index()\n",
    "d.columns = d.columns.map(species2name)\n",
    "d = d.reset_index()"
   ]
  },
  {
   "cell_type": "code",
   "execution_count": 28,
   "id": "546c6ddb-1f9d-478a-a175-31770e34ea2c",
   "metadata": {},
   "outputs": [],
   "source": [
    "species.to_csv(\"species_descriptions.tsv\", sep=\"\\t\", index=None)"
   ]
  },
  {
   "cell_type": "code",
   "execution_count": 29,
   "id": "e7996ea5-d2ec-47ab-8a6b-de886634fefe",
   "metadata": {},
   "outputs": [],
   "source": [
    "pd.merge(m[['Run','Lab code', 'Sample_category', 'Stall_corrected']],d, left_on='Run', right_on='Sample_Name', how='right').to_csv(\"mitochondrial_metazoa_counts_93.tsv\", sep=\"\\t\", index=None)\n",
    "pd.merge(m[['Run','Lab code', 'Sample_category', 'Stall_corrected']],b, left_on='Run', right_on='Sample_Name', how='right').to_csv(\"mitochondrial_metazoa_coveredbases_93.tsv\", sep=\"\\t\", index=None)"
   ]
  }
 ],
 "metadata": {
  "kernelspec": {
   "display_name": "Python 3 (ipykernel)",
   "language": "python",
   "name": "python3"
  },
  "language_info": {
   "codemirror_mode": {
    "name": "ipython",
    "version": 3
   },
   "file_extension": ".py",
   "mimetype": "text/x-python",
   "name": "python",
   "nbconvert_exporter": "python",
   "pygments_lexer": "ipython3",
   "version": "3.10.6"
  }
 },
 "nbformat": 4,
 "nbformat_minor": 5
}
