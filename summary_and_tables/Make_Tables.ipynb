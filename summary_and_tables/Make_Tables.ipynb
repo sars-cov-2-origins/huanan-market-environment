{
 "cells": [
  {
   "cell_type": "code",
   "execution_count": 2,
   "id": "dca61701-bc2f-4f8f-9ec5-c96df1d0868c",
   "metadata": {},
   "outputs": [],
   "source": [
    "import pandas as pd\n",
    "prefix = '../huanan-env-paper-private/data/sample_metadata/Liu_etal_2023_market_samples_acc_Apr16.tsv'"
   ]
  },
  {
   "cell_type": "markdown",
   "id": "20282271-0953-4715-b093-612ea845c46b",
   "metadata": {},
   "source": [
    "## Table S1: Sample metadata"
   ]
  },
  {
   "cell_type": "code",
   "execution_count": 94,
   "id": "b01a2e70-3701-464c-aa1d-18d3dad0fd7f",
   "metadata": {},
   "outputs": [],
   "source": [
    "sample_metadata = pd.read_csv('{}/data/sample_metadata/Liu_etal_2023_market_samples_acc_Apr16.tsv'.format(prefix), sep=\"\\t\")\n",
    "\n",
    "sample_metadata = sample_metadata[['Lab code', 'Sample ID', 'Sampling date', 'Sample_location',\n",
    "       'Street No.', 'Vendor No.', 'edge_case', 'Stall_corrected',\n",
    "       'Stall_corrected_merged', 'Sample type', 'Sample information',\n",
    "       'SARS-CoV-2 qPCR result', 'Latitude', 'Longitude']]\n",
    "\n",
    "sample_metadata.columns = ['Lab code', 'Sample ID', 'Sampling date', 'Sample location',\n",
    "       'Street', 'Vendor', 'Edge case', 'Stall ID',\n",
    "       'Stall ID (merged)', 'Sample type', 'Sample information',\n",
    "       'SARS-CoV-2_qPCR_result', 'Latitude', 'Longitude']\n",
    "\n",
    "## Fix mislabeled samples in Liu: Q37, Q61, and Q70\n",
    "sample_metadata.loc[sample_metadata['Lab code'].isin(['Q37','Q61','Q70']), 'SARS-CoV-2_qPCR_result'] = 'Negative'"
   ]
  },
  {
   "cell_type": "code",
   "execution_count": 95,
   "id": "17ea88f4-d5fa-4921-85de-7de6f86e686f",
   "metadata": {},
   "outputs": [],
   "source": [
    "## Add sequencing information\n",
    "sequencing_metadata = pd.read_csv('{}/data/sample_metadata/SRA_run_info.tsv'.format(prefix), sep=\"\\t\")\n",
    "sequencing_metadata = sequencing_metadata[sequencing_metadata.Sample_category != 'single_end_duplicate']\n",
    "sequencing_metadata = sequencing_metadata[sequencing_metadata.Sample_Type != 'sars2_amplicon']\n",
    "sequencing_metadata = sequencing_metadata[['LibraryNameFixed','Run']]\n",
    "sample_metadata = sample_metadata.merge(sequencing_metadata, left_on='Sample ID', right_on='LibraryNameFixed', how='left')\n",
    "del sample_metadata['LibraryNameFixed']\n",
    "sample_metadata['Sequencing run'] = sample_metadata['Run'].fillna('None')\n",
    "del sample_metadata['Run']"
   ]
  },
  {
   "cell_type": "code",
   "execution_count": 109,
   "id": "800e3f07-d402-4647-861f-af19a5c6a067",
   "metadata": {},
   "outputs": [],
   "source": [
    "# Add SARS2 information\n",
    "sars2 = pd.read_csv('../huanan-env-paper-private/data/sarscov2/sars2_reads_post_trimming.tsv', sep=\"\\t\")\n",
    "sars2_ngs_positives = sars2.query(\"Read_count > 0\")['Sample']\n",
    "sample_metadata['SARS-CoV-2_NGS_result'] = 'Negative'\n",
    "sample_metadata.loc[sample_metadata['Sequencing run'].isin(sars2_ngs_positives), 'SARS-CoV-2_NGS_result'] = 'Positive'"
   ]
  },
  {
   "cell_type": "code",
   "execution_count": 111,
   "id": "a90c7e42-905b-4e6f-a292-97112b289deb",
   "metadata": {},
   "outputs": [
    {
     "data": {
      "text/plain": [
       "SARS-CoV-2_qPCR_result  SARS-CoV-2_NGS_result\n",
       "Negative                Negative                 764\n",
       "Positive                Negative                  35\n",
       "                        Positive                  31\n",
       "Negative                Positive                   3\n",
       "dtype: int64"
      ]
     },
     "execution_count": 111,
     "metadata": {},
     "output_type": "execute_result"
    }
   ],
   "source": [
    "sample_metadata.value_counts(['SARS-CoV-2_qPCR_result','SARS-CoV-2_NGS_result'])"
   ]
  },
  {
   "cell_type": "code",
   "execution_count": 112,
   "id": "bad2f0aa-fe71-49e6-9bdf-f7f1af7104d6",
   "metadata": {},
   "outputs": [],
   "source": [
    "sample_metadata.to_csv(\"TableS1.tsv\", sep=\"\\t\", index=None)"
   ]
  },
  {
   "cell_type": "markdown",
   "id": "58a606e7-06fb-403d-b6aa-d3f340e2f11e",
   "metadata": {},
   "source": [
    "## Table S2: Sequencing metadata"
   ]
  },
  {
   "cell_type": "code",
   "execution_count": 113,
   "id": "eca818e5-073c-45dc-aead-d7ca49b800d9",
   "metadata": {},
   "outputs": [],
   "source": [
    "sequencing_metadata = pd.read_csv('{}/data/sample_metadata/SRA_run_info.tsv'.format(prefix), sep=\"\\t\")"
   ]
  },
  {
   "cell_type": "code",
   "execution_count": 114,
   "id": "dbbe741a-9a99-4518-a278-6bc7f216cf3c",
   "metadata": {},
   "outputs": [],
   "source": [
    "sequencing_metadata = sequencing_metadata[['Run','Lab code','Sample_Type','LibraryNameFixed','Sample_category','Stall_corrected','Read_pairs_after_trimming','spots','avgLength','LibraryStrategy','LibrarySource']]"
   ]
  },
  {
   "cell_type": "code",
   "execution_count": 115,
   "id": "7b9c5eed-b2d6-4e0f-a87a-5ae7eaf04895",
   "metadata": {},
   "outputs": [],
   "source": [
    "sequencing_metadata.columns = ['Sequencing run', 'Lab code', 'Sample type', 'Library name', 'Sample category',\n",
    "       'Stall ID', 'Read pairs after trimming', 'Total reads before trimming', 'Average Read Length',\n",
    "       'Library strategy', 'Library source']"
   ]
  },
  {
   "cell_type": "code",
   "execution_count": 116,
   "id": "a3660a8c-cba7-4e90-8dab-d1c58816861b",
   "metadata": {},
   "outputs": [],
   "source": [
    "sequencing_metadata.to_csv(\"TableS2.tsv\", sep=\"\\t\", index=None)"
   ]
  },
  {
   "cell_type": "markdown",
   "id": "f7cb6711-b138-4b57-9700-379ad48baa16",
   "metadata": {},
   "source": [
    "## Table S3: Summary numbers"
   ]
  },
  {
   "cell_type": "code",
   "execution_count": null,
   "id": "61230b8b-8cef-4924-9947-1ca869905f06",
   "metadata": {},
   "outputs": [],
   "source": []
  },
  {
   "cell_type": "markdown",
   "id": "325e34a6-9fd0-458f-b22e-951349ccaccb",
   "metadata": {},
   "source": [
    "## Table S4: SARS2 read counts"
   ]
  },
  {
   "cell_type": "code",
   "execution_count": 132,
   "id": "317b30e7-468c-4a5c-95c2-ef9221f4e985",
   "metadata": {},
   "outputs": [],
   "source": [
    "sars2 = pd.read_csv('../huanan-env-paper-private/data/sarscov2/sars2_reads_post_trimming.tsv', sep=\"\\t\")\n",
    "sars2 = pd.merge(sars2, sequencing_metadata[['Sequencing run','Lab code','Sample type','Sample category','Library name','Stall ID']], left_on='Sample',right_on='Sequencing run')\n",
    "\n",
    "sars2.columns = ['Sample', 'SARS2 paired read count', 'SARS2 covered bases', 'Sequencing run', 'Lab code',\n",
    "       'Sample type', 'Sample category', 'Library name', 'Stall ID']\n",
    "\n",
    "sars2 = sars2[['Lab code', 'Sequencing run', 'SARS2 paired read count', 'SARS2 covered bases',\n",
    "       'Sample type', 'Sample category', 'Library name', 'Stall ID']]"
   ]
  },
  {
   "cell_type": "code",
   "execution_count": 133,
   "id": "444597dd-9643-4b40-b4d4-e15dbce71cc9",
   "metadata": {},
   "outputs": [],
   "source": [
    "sars2.sort_values(\"SARS2 paired read count\", ascending=False).to_csv(\"TableS4.tsv\", sep=\"\\t\", index=None)"
   ]
  },
  {
   "cell_type": "markdown",
   "id": "642d0256-cdb1-4875-a4f6-78775ba16b70",
   "metadata": {},
   "source": [
    "## Table S5: Species names\n",
    "\n",
    "from:\n",
    "`data/mitochondrial_mapping/species_descriptions_with_common_name.csv`\n",
    "\n",
    "Modified slightly. Changed category to indicate animals reported by Xiao at the genus, but not species, level."
   ]
  },
  {
   "cell_type": "markdown",
   "id": "615e700c-eb65-4954-a464-1fb9f63144ec",
   "metadata": {},
   "source": [
    "## Table S5: Mammalian DNA in SARS2 samples"
   ]
  },
  {
   "cell_type": "code",
   "execution_count": 165,
   "id": "d3d7ce87-d455-44ca-9968-2fa5b7ad2244",
   "metadata": {},
   "outputs": [],
   "source": [
    "animals = pd.read_csv('../huanan-env-paper-private/data/mitochondrial_mapping/mitochondrial_metazoa_coveredbases_93.tsv', sep=\"\\t\")\n",
    "animals = animals.set_index(\"Run\")\n",
    "\n",
    "species = pd.read_csv('../huanan-env-paper-private/data/mitochondrial_mapping/species_descriptions_with_common_name.csv')\n",
    "mammal = species.query(\"Class == 'Mammalia'\").copy()\n",
    "mammal['Contig_Species'] = mammal['Contig'] + \" \" + mammal['Species']\n",
    "mammals = animals[animals.columns[animals.columns.isin(mammal['Contig_Species'])]].melt(ignore_index=False).reset_index().query(\"value>0\")"
   ]
  },
  {
   "cell_type": "code",
   "execution_count": 181,
   "id": "c3da213a-00f7-4b3f-a366-aeb78363c376",
   "metadata": {},
   "outputs": [],
   "source": [
    "positive_samples = sample_metadata.query(\"`SARS-CoV-2_qPCR_result` == 'Positive' or `SARS-CoV-2_NGS_result` == 'Positive'\")"
   ]
  },
  {
   "cell_type": "code",
   "execution_count": 191,
   "id": "f6f244af-e1c0-49dd-aafa-edc009bff95b",
   "metadata": {},
   "outputs": [],
   "source": [
    "mammals = mammals[mammals.Run.isin(positive_samples['Sequencing run'])]"
   ]
  },
  {
   "cell_type": "code",
   "execution_count": 195,
   "id": "5c93b59c-9c09-4f2d-8bde-039984ce4dca",
   "metadata": {},
   "outputs": [],
   "source": [
    "mammals_sars2 = pd.merge(mammals, positive_samples[['Sequencing run','Stall ID','Lab code','Sampling date','Sample type','Sample information','SARS-CoV-2_qPCR_result','SARS-CoV-2_NGS_result']], left_on='Run', right_on='Sequencing run', how='left').sort_values(\"Run\")"
   ]
  },
  {
   "cell_type": "code",
   "execution_count": 196,
   "id": "216fdea7-0b82-4078-96e2-c414f3819cc0",
   "metadata": {},
   "outputs": [],
   "source": [
    "mammals_sars2.to_csv(\"TableS5.tsv\", sep=\"\\t\", index=None)"
   ]
  },
  {
   "cell_type": "markdown",
   "id": "84c7cb35-9b42-4f6c-9a7f-3b660dca0c86",
   "metadata": {},
   "source": [
    "## Table S8-S11: Mammalian and animal read counts and covered bases"
   ]
  },
  {
   "cell_type": "code",
   "execution_count": 217,
   "id": "e36c29f2-9979-49da-98eb-6b22eed14944",
   "metadata": {},
   "outputs": [],
   "source": [
    "animals = pd.read_csv('../huanan-env-paper-private/data/mitochondrial_mapping/mitochondrial_metazoa_counts_93.tsv', sep=\"\\t\")\n",
    "animals = animals.set_index(\"Run\")\n",
    "\n",
    "species = pd.read_csv('../huanan-env-paper-private/data/mitochondrial_mapping/species_descriptions_with_common_name.csv')\n",
    "mammal = species.query(\"Class == 'Mammalia'\").copy()\n",
    "mammal['Contig_Species'] = mammal['Contig'] + \" \" + mammal['Species']\n",
    "mammals = animals[animals.columns[animals.columns.isin(mammal['Contig_Species'])]]\n",
    "\n",
    "tmp = sequencing_metadata[['Sequencing run','Lab code', 'Sample type', 'Sample category', 'Stall ID']]\n",
    "\n",
    "mammals_final = pd.merge(mammals, tmp, left_index=True, right_on='Sequencing run', how='left')\n",
    "mammals_final = mammals_final[['Sequencing run','Lab code', 'Sample type', 'Sample category', 'Stall ID'] + mammals.columns.to_list()]\n",
    "mammals_final.to_csv(\"TableS8.tsv\", index=None, sep=\"\\t\")"
   ]
  },
  {
   "cell_type": "code",
   "execution_count": 209,
   "id": "1c044ab0-9d25-4179-8065-1d498bdd8272",
   "metadata": {},
   "outputs": [],
   "source": [
    "animals = pd.read_csv('../huanan-env-paper-private/data/mitochondrial_mapping/mitochondrial_metazoa_coveredbases_93.tsv', sep=\"\\t\")\n",
    "animals = animals.set_index(\"Run\")\n",
    "\n",
    "species = pd.read_csv('../huanan-env-paper-private/data/mitochondrial_mapping/species_descriptions_with_common_name.csv')\n",
    "mammal = species.query(\"Class == 'Mammalia'\").copy()\n",
    "mammal['Contig_Species'] = mammal['Contig'] + \" \" + mammal['Species']\n",
    "mammals = animals[animals.columns[animals.columns.isin(mammal['Contig_Species'])]]\n",
    "\n",
    "tmp = sequencing_metadata[['Sequencing run','Lab code', 'Sample type', 'Sample category', 'Stall ID']]\n",
    "\n",
    "mammals_final = pd.merge(mammals, tmp, left_index=True, right_on='Sequencing run', how='left')\n",
    "mammals_final = mammals_final[['Sequencing run','Lab code', 'Sample type', 'Sample category', 'Stall ID'] + mammals.columns.to_list()]\n",
    "mammals_final.to_csv(\"TableS9.tsv\", index=None, sep=\"\\t\")"
   ]
  },
  {
   "cell_type": "code",
   "execution_count": 216,
   "id": "75999bf9-07f0-42ac-b56a-b20ffc2825dd",
   "metadata": {},
   "outputs": [],
   "source": [
    "animals = pd.read_csv('../huanan-env-paper-private/data/mitochondrial_mapping/mitochondrial_metazoa_counts_93.tsv', sep=\"\\t\")\n",
    "animals_final.to_csv(\"TableS10.tsv\", index=None, sep=\"\\t\")\n",
    "\n",
    "animals = pd.read_csv('../huanan-env-paper-private/data/mitochondrial_mapping/mitochondrial_metazoa_coveredbases_93.tsv', sep=\"\\t\")\n",
    "animals_final.to_csv(\"TableS11.tsv\", index=None, sep=\"\\t\")"
   ]
  },
  {
   "cell_type": "markdown",
   "id": "7d4c5f04-5201-484f-86c7-a0a69616a521",
   "metadata": {},
   "source": [
    "## Table S12: Comparison to Xiao 21 and Worobey 22"
   ]
  },
  {
   "cell_type": "code",
   "execution_count": 54,
   "id": "9ac422a9-6cd6-4468-b41d-71314fd788ff",
   "metadata": {},
   "outputs": [],
   "source": [
    "animals = pd.read_csv('../mtDNA/mitochondrial_metazoa_counts_93.tsv', sep=\"\\t\")\n",
    "animals = animals.set_index(\"Run\")\n",
    "\n",
    "species = pd.read_csv('../mtDNA/species_descriptions_with_common_name.csv')\n",
    "mammal = species.query(\"Class == 'Mammalia'\").copy()\n",
    "mammal['Contig_Species'] = mammal['Contig'] + \" \" + mammal['Species']\n",
    "mammals = animals[animals.columns[animals.columns.isin(mammal['Contig_Species'])]]\n",
    "\n",
    "## Get market samples\n",
    "metadata = pd.read_csv('../metadata/Liu_etal_2023_with_sequencing.csv')\n",
    "env_samples = metadata[~metadata.Sequencing_Run.isna()].query(\"`Sample.type` == 'Environmental swab'\")\n",
    "\n",
    "## For total counts\n",
    "n1 = pd.DataFrame(mammals[mammals.index.isin(env_samples['Sequencing_Run'])].astype(bool).sum().sort_values(ascending=False))\n",
    "n1.columns=['Total samples']\n",
    "\n",
    "n2 = pd.DataFrame(mammals[mammals.index.isin(env_samples['Sequencing_Run'])].sum().sort_values(ascending=False))\n",
    "n2.columns=['Total reads']\n",
    "\n",
    "n2 = n2.merge(n1, left_index=True, right_index=True)\n",
    "## For SARS2 positive counts\n",
    "metadata = pd.read_csv('../metadata/Liu_etal_2023_with_sequencing.csv')\n",
    "env_samples = metadata[~metadata.Sequencing_Run.isna()].query(\"`Sample.type` == 'Environmental swab'\").query(\"`SARS.CoV.2.qPCR.result` == 'Positive'\")\n",
    "\n",
    "## For total counts\n",
    "n3 = pd.DataFrame(mammals[mammals.index.isin(env_samples['Sequencing_Run'])].astype(bool).sum().sort_values(ascending=False))\n",
    "n3.columns = ['Total SARS2 samples']\n",
    "\n",
    "env_samples = metadata[~metadata.Sequencing_Run.isna()].query(\"`Sample.type` == 'Environmental swab'\").query(\"`SARS.CoV.2.qPCR.result` == 'Positive'\")\n",
    "env_samples = env_samples[env_samples['Sampling.date'].isin(['2020-01-12'])]\n",
    "n4 = pd.DataFrame(mammals[mammals.index.isin(env_samples['Sequencing_Run'])].astype(bool).sum().sort_values(ascending=False))\n",
    "n4.columns = ['Total SARS2 Jan12 samples']\n",
    "n4 = n4.merge(n3, left_index=True, right_index=True)\n",
    "\n",
    "n4 = n4.merge(n2, left_index=True, right_index=True)"
   ]
  },
  {
   "cell_type": "code",
   "execution_count": 55,
   "id": "56196c4a-5b74-4c11-9685-c9268d96a1c6",
   "metadata": {},
   "outputs": [
    {
     "data": {
      "text/html": [
       "<div>\n",
       "<style scoped>\n",
       "    .dataframe tbody tr th:only-of-type {\n",
       "        vertical-align: middle;\n",
       "    }\n",
       "\n",
       "    .dataframe tbody tr th {\n",
       "        vertical-align: top;\n",
       "    }\n",
       "\n",
       "    .dataframe thead th {\n",
       "        text-align: right;\n",
       "    }\n",
       "</style>\n",
       "<table border=\"1\" class=\"dataframe\">\n",
       "  <thead>\n",
       "    <tr style=\"text-align: right;\">\n",
       "      <th></th>\n",
       "      <th>Total SARS2 Jan12 samples</th>\n",
       "      <th>Total SARS2 samples</th>\n",
       "      <th>Total reads</th>\n",
       "      <th>Total samples</th>\n",
       "    </tr>\n",
       "  </thead>\n",
       "  <tbody>\n",
       "    <tr>\n",
       "      <th>NC_012920.1 Homo sapiens</th>\n",
       "      <td>6</td>\n",
       "      <td>35</td>\n",
       "      <td>32637</td>\n",
       "      <td>93</td>\n",
       "    </tr>\n",
       "    <tr>\n",
       "      <th>NC_021478.1 Rhizomys pruinosus</th>\n",
       "      <td>5</td>\n",
       "      <td>6</td>\n",
       "      <td>10538</td>\n",
       "      <td>51</td>\n",
       "    </tr>\n",
       "    <tr>\n",
       "      <th>NC_002008.4 Canis lupus</th>\n",
       "      <td>5</td>\n",
       "      <td>15</td>\n",
       "      <td>23759</td>\n",
       "      <td>62</td>\n",
       "    </tr>\n",
       "    <tr>\n",
       "      <th>NC_001913.1 Oryctolagus cuniculus</th>\n",
       "      <td>5</td>\n",
       "      <td>13</td>\n",
       "      <td>18435</td>\n",
       "      <td>53</td>\n",
       "    </tr>\n",
       "    <tr>\n",
       "      <th>NC_013700.1 Nyctereutes procyonoides</th>\n",
       "      <td>5</td>\n",
       "      <td>7</td>\n",
       "      <td>41118</td>\n",
       "      <td>57</td>\n",
       "    </tr>\n",
       "    <tr>\n",
       "      <th>KX964606.1 Erinaceus amurensis</th>\n",
       "      <td>5</td>\n",
       "      <td>9</td>\n",
       "      <td>8320</td>\n",
       "      <td>34</td>\n",
       "    </tr>\n",
       "    <tr>\n",
       "      <th>KR816507.1 Hystrix brachyura</th>\n",
       "      <td>4</td>\n",
       "      <td>4</td>\n",
       "      <td>5419</td>\n",
       "      <td>10</td>\n",
       "    </tr>\n",
       "    <tr>\n",
       "      <th>NC_011638.1 Rattus tanezumi</th>\n",
       "      <td>3</td>\n",
       "      <td>7</td>\n",
       "      <td>6080</td>\n",
       "      <td>30</td>\n",
       "    </tr>\n",
       "    <tr>\n",
       "      <th>NC_025316.1 Lepus sinensis</th>\n",
       "      <td>3</td>\n",
       "      <td>4</td>\n",
       "      <td>2274</td>\n",
       "      <td>27</td>\n",
       "    </tr>\n",
       "    <tr>\n",
       "      <th>NC_004069.1 Muntiacus reevesi</th>\n",
       "      <td>3</td>\n",
       "      <td>3</td>\n",
       "      <td>1326</td>\n",
       "      <td>20</td>\n",
       "    </tr>\n",
       "    <tr>\n",
       "      <th>NC_026063.1 Ovis orientalis</th>\n",
       "      <td>2</td>\n",
       "      <td>22</td>\n",
       "      <td>13370</td>\n",
       "      <td>33</td>\n",
       "    </tr>\n",
       "    <tr>\n",
       "      <th>NC_018367.1 Marmota himalayana</th>\n",
       "      <td>2</td>\n",
       "      <td>2</td>\n",
       "      <td>9067</td>\n",
       "      <td>4</td>\n",
       "    </tr>\n",
       "    <tr>\n",
       "      <th>NC_069637.1 Hystrix indica</th>\n",
       "      <td>1</td>\n",
       "      <td>1</td>\n",
       "      <td>193</td>\n",
       "      <td>1</td>\n",
       "    </tr>\n",
       "    <tr>\n",
       "      <th>NC_029403.1 Paguma larvata</th>\n",
       "      <td>1</td>\n",
       "      <td>1</td>\n",
       "      <td>507</td>\n",
       "      <td>6</td>\n",
       "    </tr>\n",
       "    <tr>\n",
       "      <th>NC_012095.1 Sus scrofa</th>\n",
       "      <td>1</td>\n",
       "      <td>21</td>\n",
       "      <td>11426</td>\n",
       "      <td>43</td>\n",
       "    </tr>\n",
       "    <tr>\n",
       "      <th>NC_036369.1 Otocyon megalotis</th>\n",
       "      <td>1</td>\n",
       "      <td>1</td>\n",
       "      <td>27</td>\n",
       "      <td>1</td>\n",
       "    </tr>\n",
       "    <tr>\n",
       "      <th>NC_020645.1 Arctonyx collaris</th>\n",
       "      <td>1</td>\n",
       "      <td>1</td>\n",
       "      <td>1442</td>\n",
       "      <td>18</td>\n",
       "    </tr>\n",
       "    <tr>\n",
       "      <th>NC_006295.1 Bubalus carabanensis</th>\n",
       "      <td>0</td>\n",
       "      <td>3</td>\n",
       "      <td>30</td>\n",
       "      <td>4</td>\n",
       "    </tr>\n",
       "    <tr>\n",
       "      <th>NC_026124.1 Rhizomys sinensis</th>\n",
       "      <td>0</td>\n",
       "      <td>0</td>\n",
       "      <td>16</td>\n",
       "      <td>1</td>\n",
       "    </tr>\n",
       "    <tr>\n",
       "      <th>NC_012389.1 Rattus exulans</th>\n",
       "      <td>0</td>\n",
       "      <td>0</td>\n",
       "      <td>38</td>\n",
       "      <td>1</td>\n",
       "    </tr>\n",
       "    <tr>\n",
       "      <th>NC_014861.1 Rattus tunneyi</th>\n",
       "      <td>0</td>\n",
       "      <td>0</td>\n",
       "      <td>33</td>\n",
       "      <td>1</td>\n",
       "    </tr>\n",
       "    <tr>\n",
       "      <th>NC_039104.1 Rhizomys sumatrensis</th>\n",
       "      <td>0</td>\n",
       "      <td>0</td>\n",
       "      <td>45</td>\n",
       "      <td>2</td>\n",
       "    </tr>\n",
       "    <tr>\n",
       "      <th>NC_005033.1 Hemiechinus auritus</th>\n",
       "      <td>0</td>\n",
       "      <td>0</td>\n",
       "      <td>32</td>\n",
       "      <td>1</td>\n",
       "    </tr>\n",
       "    <tr>\n",
       "      <th>NC_001700.1 Felis catus</th>\n",
       "      <td>0</td>\n",
       "      <td>7</td>\n",
       "      <td>3369</td>\n",
       "      <td>22</td>\n",
       "    </tr>\n",
       "    <tr>\n",
       "      <th>NC_001640.1 Equus caballus</th>\n",
       "      <td>0</td>\n",
       "      <td>3</td>\n",
       "      <td>43</td>\n",
       "      <td>3</td>\n",
       "    </tr>\n",
       "    <tr>\n",
       "      <th>NC_008066.1 Chlorocebus sabaeus</th>\n",
       "      <td>0</td>\n",
       "      <td>0</td>\n",
       "      <td>0</td>\n",
       "      <td>0</td>\n",
       "    </tr>\n",
       "    <tr>\n",
       "      <th>NC_020637.1 Mustela sibirica</th>\n",
       "      <td>0</td>\n",
       "      <td>2</td>\n",
       "      <td>106</td>\n",
       "      <td>4</td>\n",
       "    </tr>\n",
       "    <tr>\n",
       "      <th>MN400429.1 Melogale moschata</th>\n",
       "      <td>0</td>\n",
       "      <td>0</td>\n",
       "      <td>686</td>\n",
       "      <td>2</td>\n",
       "    </tr>\n",
       "    <tr>\n",
       "      <th>KR866125.1 Capra hircus</th>\n",
       "      <td>0</td>\n",
       "      <td>8</td>\n",
       "      <td>1193</td>\n",
       "      <td>12</td>\n",
       "    </tr>\n",
       "    <tr>\n",
       "      <th>NC_006853.1 Bos taurus</th>\n",
       "      <td>0</td>\n",
       "      <td>21</td>\n",
       "      <td>27819</td>\n",
       "      <td>24</td>\n",
       "    </tr>\n",
       "    <tr>\n",
       "      <th>NC_008434.1 Vulpes vulpes</th>\n",
       "      <td>0</td>\n",
       "      <td>0</td>\n",
       "      <td>525</td>\n",
       "      <td>10</td>\n",
       "    </tr>\n",
       "    <tr>\n",
       "      <th>NC_035866.1 Myocastor coypus</th>\n",
       "      <td>0</td>\n",
       "      <td>0</td>\n",
       "      <td>548</td>\n",
       "      <td>7</td>\n",
       "    </tr>\n",
       "    <tr>\n",
       "      <th>NC_026529.1 Vulpes lagopus</th>\n",
       "      <td>0</td>\n",
       "      <td>0</td>\n",
       "      <td>357</td>\n",
       "      <td>8</td>\n",
       "    </tr>\n",
       "  </tbody>\n",
       "</table>\n",
       "</div>"
      ],
      "text/plain": [
       "                                      Total SARS2 Jan12 samples  \\\n",
       "NC_012920.1 Homo sapiens                                      6   \n",
       "NC_021478.1 Rhizomys pruinosus                                5   \n",
       "NC_002008.4 Canis lupus                                       5   \n",
       "NC_001913.1 Oryctolagus cuniculus                             5   \n",
       "NC_013700.1 Nyctereutes procyonoides                          5   \n",
       "KX964606.1 Erinaceus amurensis                                5   \n",
       "KR816507.1 Hystrix brachyura                                  4   \n",
       "NC_011638.1 Rattus tanezumi                                   3   \n",
       "NC_025316.1 Lepus sinensis                                    3   \n",
       "NC_004069.1 Muntiacus reevesi                                 3   \n",
       "NC_026063.1 Ovis orientalis                                   2   \n",
       "NC_018367.1 Marmota himalayana                                2   \n",
       "NC_069637.1 Hystrix indica                                    1   \n",
       "NC_029403.1 Paguma larvata                                    1   \n",
       "NC_012095.1 Sus scrofa                                        1   \n",
       "NC_036369.1 Otocyon megalotis                                 1   \n",
       "NC_020645.1 Arctonyx collaris                                 1   \n",
       "NC_006295.1 Bubalus carabanensis                              0   \n",
       "NC_026124.1 Rhizomys sinensis                                 0   \n",
       "NC_012389.1 Rattus exulans                                    0   \n",
       "NC_014861.1 Rattus tunneyi                                    0   \n",
       "NC_039104.1 Rhizomys sumatrensis                              0   \n",
       "NC_005033.1 Hemiechinus auritus                               0   \n",
       "NC_001700.1 Felis catus                                       0   \n",
       "NC_001640.1 Equus caballus                                    0   \n",
       "NC_008066.1 Chlorocebus sabaeus                               0   \n",
       "NC_020637.1 Mustela sibirica                                  0   \n",
       "MN400429.1 Melogale moschata                                  0   \n",
       "KR866125.1 Capra hircus                                       0   \n",
       "NC_006853.1 Bos taurus                                        0   \n",
       "NC_008434.1 Vulpes vulpes                                     0   \n",
       "NC_035866.1 Myocastor coypus                                  0   \n",
       "NC_026529.1 Vulpes lagopus                                    0   \n",
       "\n",
       "                                      Total SARS2 samples  Total reads  \\\n",
       "NC_012920.1 Homo sapiens                               35        32637   \n",
       "NC_021478.1 Rhizomys pruinosus                          6        10538   \n",
       "NC_002008.4 Canis lupus                                15        23759   \n",
       "NC_001913.1 Oryctolagus cuniculus                      13        18435   \n",
       "NC_013700.1 Nyctereutes procyonoides                    7        41118   \n",
       "KX964606.1 Erinaceus amurensis                          9         8320   \n",
       "KR816507.1 Hystrix brachyura                            4         5419   \n",
       "NC_011638.1 Rattus tanezumi                             7         6080   \n",
       "NC_025316.1 Lepus sinensis                              4         2274   \n",
       "NC_004069.1 Muntiacus reevesi                           3         1326   \n",
       "NC_026063.1 Ovis orientalis                            22        13370   \n",
       "NC_018367.1 Marmota himalayana                          2         9067   \n",
       "NC_069637.1 Hystrix indica                              1          193   \n",
       "NC_029403.1 Paguma larvata                              1          507   \n",
       "NC_012095.1 Sus scrofa                                 21        11426   \n",
       "NC_036369.1 Otocyon megalotis                           1           27   \n",
       "NC_020645.1 Arctonyx collaris                           1         1442   \n",
       "NC_006295.1 Bubalus carabanensis                        3           30   \n",
       "NC_026124.1 Rhizomys sinensis                           0           16   \n",
       "NC_012389.1 Rattus exulans                              0           38   \n",
       "NC_014861.1 Rattus tunneyi                              0           33   \n",
       "NC_039104.1 Rhizomys sumatrensis                        0           45   \n",
       "NC_005033.1 Hemiechinus auritus                         0           32   \n",
       "NC_001700.1 Felis catus                                 7         3369   \n",
       "NC_001640.1 Equus caballus                              3           43   \n",
       "NC_008066.1 Chlorocebus sabaeus                         0            0   \n",
       "NC_020637.1 Mustela sibirica                            2          106   \n",
       "MN400429.1 Melogale moschata                            0          686   \n",
       "KR866125.1 Capra hircus                                 8         1193   \n",
       "NC_006853.1 Bos taurus                                 21        27819   \n",
       "NC_008434.1 Vulpes vulpes                               0          525   \n",
       "NC_035866.1 Myocastor coypus                            0          548   \n",
       "NC_026529.1 Vulpes lagopus                              0          357   \n",
       "\n",
       "                                      Total samples  \n",
       "NC_012920.1 Homo sapiens                         93  \n",
       "NC_021478.1 Rhizomys pruinosus                   51  \n",
       "NC_002008.4 Canis lupus                          62  \n",
       "NC_001913.1 Oryctolagus cuniculus                53  \n",
       "NC_013700.1 Nyctereutes procyonoides             57  \n",
       "KX964606.1 Erinaceus amurensis                   34  \n",
       "KR816507.1 Hystrix brachyura                     10  \n",
       "NC_011638.1 Rattus tanezumi                      30  \n",
       "NC_025316.1 Lepus sinensis                       27  \n",
       "NC_004069.1 Muntiacus reevesi                    20  \n",
       "NC_026063.1 Ovis orientalis                      33  \n",
       "NC_018367.1 Marmota himalayana                    4  \n",
       "NC_069637.1 Hystrix indica                        1  \n",
       "NC_029403.1 Paguma larvata                        6  \n",
       "NC_012095.1 Sus scrofa                           43  \n",
       "NC_036369.1 Otocyon megalotis                     1  \n",
       "NC_020645.1 Arctonyx collaris                    18  \n",
       "NC_006295.1 Bubalus carabanensis                  4  \n",
       "NC_026124.1 Rhizomys sinensis                     1  \n",
       "NC_012389.1 Rattus exulans                        1  \n",
       "NC_014861.1 Rattus tunneyi                        1  \n",
       "NC_039104.1 Rhizomys sumatrensis                  2  \n",
       "NC_005033.1 Hemiechinus auritus                   1  \n",
       "NC_001700.1 Felis catus                          22  \n",
       "NC_001640.1 Equus caballus                        3  \n",
       "NC_008066.1 Chlorocebus sabaeus                   0  \n",
       "NC_020637.1 Mustela sibirica                      4  \n",
       "MN400429.1 Melogale moschata                      2  \n",
       "KR866125.1 Capra hircus                          12  \n",
       "NC_006853.1 Bos taurus                           24  \n",
       "NC_008434.1 Vulpes vulpes                        10  \n",
       "NC_035866.1 Myocastor coypus                      7  \n",
       "NC_026529.1 Vulpes lagopus                        8  "
      ]
     },
     "execution_count": 55,
     "metadata": {},
     "output_type": "execute_result"
    }
   ],
   "source": [
    "n4"
   ]
  },
  {
   "cell_type": "markdown",
   "id": "c6cd6e74-482d-40af-a785-5a09079e5772",
   "metadata": {},
   "source": [
    "## Table S12: rRNA"
   ]
  },
  {
   "cell_type": "code",
   "execution_count": 227,
   "id": "c0375b40-ac04-43a3-b00a-b49fc5728152",
   "metadata": {},
   "outputs": [],
   "source": [
    "rrna = pd.read_csv('../huanan-env-paper-private/mtDNA/rRNA/mt93_counts_rrna.tsv', sep=\"\\t\")\n",
    "species = pd.read_csv('../huanan-env-paper-private/old/data/mitochondrial_mapping/species_descriptions_with_common_name.csv')\n",
    "mammal = species.query(\"Class == 'Mammalia'\").copy()\n",
    "rrna[['Sample_Name'] + mammal['Contig'].to_list()].to_csv(\"TableS12.tsv\", index=None, sep=\"\\t\")"
   ]
  },
  {
   "cell_type": "markdown",
   "id": "dff3fce3-84f4-4285-8d5a-91bc255b427d",
   "metadata": {},
   "source": [
    "## Table S13: Correlations"
   ]
  },
  {
   "cell_type": "code",
   "execution_count": 243,
   "id": "af78fd88-10b1-4075-b2a9-af606f3eb664",
   "metadata": {},
   "outputs": [],
   "source": [
    "corr = pd.read_csv('../huanan-env-paper-private/correlations/correlation_results.tsv', sep=\"\\t\")\n",
    "corr2 = pd.read_csv('../huanan-env-paper-private/correlations/correlation_results_nomammal.tsv', sep=\"\\t\")\n",
    "corr = pd.concat([corr,corr2])"
   ]
  },
  {
   "cell_type": "code",
   "execution_count": 244,
   "id": "d20999b2-7bdc-4298-bfcf-49c73d90c5cc",
   "metadata": {},
   "outputs": [],
   "source": [
    "corr.columns = ['Species', 'Common name', 'Class', 'Date', 'Spearman correlation (total reads)',\n",
    "       'P-value (total reads)', 'Spearman correlation (mapped reads)', 'P-value (mapped reads)', 'Positive samples',\n",
    "       'Read count', 'Category', 'drop', 'boot_95_min', 'boot_mean',\n",
    "       'boot_95_max', 'Adjusted P-value (total reads)', 'Adjusted P-value (mapped reads)']\n",
    "\n",
    "del corr['drop']\n",
    "\n",
    "corr.to_csv(\"TableS13.tsv\", index=None, sep=\"\\t\")"
   ]
  },
  {
   "cell_type": "markdown",
   "id": "81c25a36-a256-46ab-9e35-4e3027c3b060",
   "metadata": {},
   "source": [
    "## Table S14: Mammalian viruses"
   ]
  },
  {
   "cell_type": "code",
   "execution_count": 230,
   "id": "e283bbef-f3df-4de0-b31c-e7acc06bfc06",
   "metadata": {},
   "outputs": [],
   "source": [
    "virus = pd.read_csv('../huanan-env-paper-private/viruses/filtered_viral_counts_97_95_20_200.tsv', sep=\"\\t\")\n",
    "virus.columns = ['Sequencing Run', 'Viral genome', 'Viral name', 'Virus genome length', 'Paired read count', 'Covered bases']\n",
    "virus.to_csv(\"TableS14.tsv\", index=None, sep=\"\\t\")"
   ]
  },
  {
   "cell_type": "markdown",
   "id": "a2105592-179f-45d1-aa1d-d41dbf49c570",
   "metadata": {},
   "source": [
    "# Table S16 and S17: Mitochondrial genomes"
   ]
  },
  {
   "cell_type": "code",
   "execution_count": 245,
   "id": "276ffd84-ad49-4230-a7f4-de4ed0876069",
   "metadata": {},
   "outputs": [],
   "source": [
    "mt = pd.read_csv('../huanan-env-paper-private/MT_phylogenetics/Mitochondrial_genomes.tsv', sep=\"\\t\")"
   ]
  },
  {
   "cell_type": "code",
   "execution_count": 247,
   "id": "a7fed2ef-be33-4422-b5b1-e9409eb08f7f",
   "metadata": {},
   "outputs": [],
   "source": [
    "mt.columns = ['Sequencing Run','Species','Bases coverage','Breadth of coverage','drop','SNPs from reference', 'ANI to reference (%)', 'Sample Lab code', 'Stall']\n",
    "del mt['drop'] \n",
    "mt.to_csv('TableS15.tsv', sep=\"\\t\", index=None)"
   ]
  },
  {
   "cell_type": "code",
   "execution_count": null,
   "id": "67dc807e-0598-4a7a-8b2e-04c2a08c1d6d",
   "metadata": {},
   "outputs": [],
   "source": []
  }
 ],
 "metadata": {
  "kernelspec": {
   "display_name": "Python 3 (ipykernel)",
   "language": "python",
   "name": "python3"
  },
  "language_info": {
   "codemirror_mode": {
    "name": "ipython",
    "version": 3
   },
   "file_extension": ".py",
   "mimetype": "text/x-python",
   "name": "python",
   "nbconvert_exporter": "python",
   "pygments_lexer": "ipython3",
   "version": "3.10.12"
  }
 },
 "nbformat": 4,
 "nbformat_minor": 5
}
